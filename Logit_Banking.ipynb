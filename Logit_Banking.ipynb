{
 "cells": [
  {
   "cell_type": "markdown",
   "id": "012a877f",
   "metadata": {},
   "source": [
    "# Business Case -- \n",
    "#The dataset comes from the UCI Machine Learning repository, and it is related to direct marketing campaigns (phone calls) of a Portuguese banking institution. \n",
    "#The classification goal is to predict whether the client will subscribe (1/0) to a term deposit (variable y)."
   ]
  },
  {
   "cell_type": "code",
   "execution_count": 1,
   "id": "0bf033d6",
   "metadata": {},
   "outputs": [],
   "source": [
    "import os\n",
    "import pandas as pd\n",
    "import numpy as np\n",
    "#from sklearn import preprocessing\n",
    "import matplotlib.pyplot as plt \n",
    "plt.rc(\"font\", size=14)\n",
    "from sklearn.linear_model import LogisticRegression #logistic regression\n",
    "from sklearn.model_selection import train_test_split #train & validation\n",
    "import seaborn as sns #Visualization\n",
    "sns.set(style=\"white\") #plot background\n",
    "sns.set(style=\"whitegrid\", color_codes=True) #plot background \n"
   ]
  },
  {
   "cell_type": "code",
   "execution_count": 2,
   "id": "414588f2",
   "metadata": {},
   "outputs": [
    {
     "name": "stdout",
     "output_type": "stream",
     "text": [
      "(41188, 21)\n",
      "['age', 'job', 'marital', 'education', 'default', 'housing', 'loan', 'contact', 'month', 'day_of_week', 'duration', 'campaign', 'pdays', 'previous', 'poutcome', 'emp_var_rate', 'cons_price_idx', 'cons_conf_idx', 'euribor3m', 'nr_employed', 'y']\n"
     ]
    }
   ],
   "source": [
    "\n",
    "#os.chdir('C:\\\\Users\\\\sxv210087\\\\Desktop\\\\ivy\\\\Logit')\n",
    "os.getcwd()\n",
    "data_org = pd.read_csv('Banking.csv', header=0)\n",
    "data = data_org\n",
    "#data = data.dropna()\n",
    "print(data.shape)\n",
    "print(list(data.columns))\n"
   ]
  },
  {
   "cell_type": "markdown",
   "id": "7169d64f",
   "metadata": {},
   "source": [
    "# EDA"
   ]
  },
  {
   "cell_type": "code",
   "execution_count": null,
   "id": "b9eae4a0",
   "metadata": {},
   "outputs": [],
   "source": [
    "#1. Predict variable (desired target)\n",
    "# y — has the client subscribed a term deposit? (binary: “1”, means “Yes”, “0” means “No”)"
   ]
  },
  {
   "cell_type": "code",
   "execution_count": 3,
   "id": "281b4305",
   "metadata": {},
   "outputs": [
    {
     "data": {
      "image/png": "[encoded data removed]",
      "text/plain": [
       "<Figure size 432x288 with 1 Axes>"
      ]
     },
     "metadata": {},
     "output_type": "display_data"
    }
   ],
   "source": [
    "\n",
    "#Barplot for the dependent variable\n",
    "sns.countplot(x='y',data=data, palette='hls')\n",
    "plt.show()\n",
    "#len(data[data['y']==1])/len(data)\n",
    "#len(data[data['y']==0])/len(data)\n"
   ]
  },
  {
   "cell_type": "code",
   "execution_count": null,
   "id": "a9e25f1b",
   "metadata": {},
   "outputs": [],
   "source": [
    "\n",
    "#count\n",
    "data.y.value_counts()\n"
   ]
  },
  {
   "cell_type": "code",
   "execution_count": null,
   "id": "a1f9d2cb",
   "metadata": {},
   "outputs": [],
   "source": [
    "#Check the missing values\n",
    "data.isnull().sum()"
   ]
  },
  {
   "cell_type": "code",
   "execution_count": null,
   "id": "9f726783",
   "metadata": {},
   "outputs": [],
   "source": [
    "#Customer job distribution\n",
    "sns.countplot(y=\"job\", data=data)\n",
    "plt.show()"
   ]
  },
  {
   "cell_type": "code",
   "execution_count": null,
   "id": "afb1f7ba",
   "metadata": {},
   "outputs": [],
   "source": [
    "#count\n",
    "data.job.value_counts()"
   ]
  },
  {
   "cell_type": "code",
   "execution_count": null,
   "id": "36e358d8",
   "metadata": {},
   "outputs": [],
   "source": [
    "#Customer marital status distribution\n",
    "sns.countplot(x=\"marital\", data=data)\n",
    "plt.show()"
   ]
  },
  {
   "cell_type": "code",
   "execution_count": null,
   "id": "9ef2f3e5",
   "metadata": {},
   "outputs": [],
   "source": [
    "#Barplot for credit in default\n",
    "sns.countplot(x=\"default\", data=data)\n",
    "plt.show()"
   ]
  },
  {
   "cell_type": "code",
   "execution_count": null,
   "id": "5eed53e2",
   "metadata": {},
   "outputs": [],
   "source": [
    "#Barplot for housing loan\n",
    "sns.countplot(x=\"housing\", data=data)\n",
    "plt.show()"
   ]
  },
  {
   "cell_type": "code",
   "execution_count": null,
   "id": "cff7741c",
   "metadata": {},
   "outputs": [],
   "source": [
    "#Barplot for personal loan\n",
    "sns.countplot(x=\"loan\", data=data)\n",
    "plt.show()"
   ]
  },
  {
   "cell_type": "code",
   "execution_count": null,
   "id": "fa42a87c",
   "metadata": {},
   "outputs": [],
   "source": [
    "#Barplot for previous marketing loan outcome\n",
    "sns.countplot(x=\"poutcome\", data=data)\n",
    "plt.show()"
   ]
  },
  {
   "cell_type": "markdown",
   "id": "4936d104",
   "metadata": {},
   "source": [
    "Our prediction will be based on the customer’s job, marital status, whether he(she) has credit in default, \n",
    "whether he(she) has a housing loan, whether he(she) has a personal loan, and the outcome of the previous marketing campaigns. \n",
    "So, we will drop the variables that we do not need.\n"
   ]
  },
  {
   "cell_type": "code",
   "execution_count": null,
   "id": "ae733ab1",
   "metadata": {},
   "outputs": [],
   "source": [
    "data.columns"
   ]
  },
  {
   "cell_type": "code",
   "execution_count": 4,
   "id": "7450242d",
   "metadata": {},
   "outputs": [],
   "source": [
    "#Dropping the redundant columns\n",
    "data.drop(data.columns[[0, 3, 7, 8, 9, 10, 11, 12, 13, 15, 16, 17, 18, 19]], axis=1, inplace=True)"
   ]
  },
  {
   "cell_type": "code",
   "execution_count": 5,
   "id": "1392f2d1",
   "metadata": {},
   "outputs": [],
   "source": [
    "#Creating Dummy Variables\n",
    "data2 = pd.get_dummies(data, columns =['job', 'marital', 'default', 'housing', 'loan', 'poutcome'])"
   ]
  },
  {
   "cell_type": "code",
   "execution_count": 6,
   "id": "66403219",
   "metadata": {},
   "outputs": [
    {
     "data": {
      "text/plain": [
       "Index(['y', 'job_admin.', 'job_blue-collar', 'job_entrepreneur',\n",
       "       'job_housemaid', 'job_management', 'job_retired', 'job_self-employed',\n",
       "       'job_services', 'job_student', 'job_technician', 'job_unemployed',\n",
       "       'job_unknown', 'marital_divorced', 'marital_married', 'marital_single',\n",
       "       'marital_unknown', 'default_no', 'default_unknown', 'default_yes',\n",
       "       'housing_no', 'housing_unknown', 'housing_yes', 'loan_no',\n",
       "       'loan_unknown', 'loan_yes', 'poutcome_failure', 'poutcome_nonexistent',\n",
       "       'poutcome_success'],\n",
       "      dtype='object')"
      ]
     },
     "execution_count": 6,
     "metadata": {},
     "output_type": "execute_result"
    }
   ],
   "source": [
    "data2.columns"
   ]
  },
  {
   "cell_type": "code",
   "execution_count": 7,
   "id": "27ff58e1",
   "metadata": {},
   "outputs": [
    {
     "data": {
      "text/plain": [
       "Index(['y', 'job_admin.', 'job_blue-collar', 'job_entrepreneur',\n",
       "       'job_housemaid', 'job_management', 'job_retired', 'job_self-employed',\n",
       "       'job_services', 'job_student', 'job_technician', 'job_unemployed',\n",
       "       'marital_divorced', 'marital_married', 'marital_single', 'default_no',\n",
       "       'default_yes', 'housing_no', 'housing_yes', 'loan_no', 'loan_yes',\n",
       "       'poutcome_failure', 'poutcome_nonexistent', 'poutcome_success'],\n",
       "      dtype='object')"
      ]
     },
     "execution_count": 7,
     "metadata": {},
     "output_type": "execute_result"
    }
   ],
   "source": [
    "#Drop the unknown columns\n",
    "data2.drop(data2.columns[[12, 16, 18, 21, 24]], axis=1, inplace=True)\n",
    "data2.columns"
   ]
  },
  {
   "cell_type": "code",
   "execution_count": null,
   "id": "8345ebe5",
   "metadata": {},
   "outputs": [],
   "source": [
    "#Check the independence between the independent variables\n",
    "sns.heatmap(data2.corr())\n",
    "plt.show()"
   ]
  },
  {
   "cell_type": "code",
   "execution_count": 8,
   "id": "a75c603e",
   "metadata": {},
   "outputs": [],
   "source": [
    "# Split the data into training and test sets\n",
    "X = data2.iloc[:,1:] #Feature Class\n",
    "y = data2.iloc[:,0] #Dependent Class\n"
   ]
  },
  {
   "cell_type": "code",
   "execution_count": 9,
   "id": "b622969b",
   "metadata": {},
   "outputs": [],
   "source": [
    "X_train, X_test, y_train, y_test = train_test_split(X, y, random_state=0)\n",
    "X_train.shape\n",
    "columns = X_train.columns\n"
   ]
  },
  {
   "cell_type": "code",
   "execution_count": 10,
   "id": "e96348cf",
   "metadata": {},
   "outputs": [
    {
     "name": "stdout",
     "output_type": "stream",
     "text": [
      "(30891, 23)\n",
      "(10297, 23)\n"
     ]
    }
   ],
   "source": [
    "print(X_train.shape)\n",
    "print(X_test.shape)"
   ]
  },
  {
   "cell_type": "markdown",
   "id": "f0888195",
   "metadata": {},
   "source": [
    "Since the dataset is imbalanced:\n",
    "\n",
    "# Synthetic Minority Oversampling Technique (SMOTE) to solve the problem of Imbalanced Data\n"
   ]
  },
  {
   "cell_type": "markdown",
   "id": "2daffde9",
   "metadata": {},
   "source": [
    "# Works by creating synthetic samples from the minor class (subscription) instead of creating copies.\n",
    "#Randomly choosing one of the k-nearest-neighbors and using it to create a similar, but randomly tweaked, new observations."
   ]
  },
  {
   "cell_type": "code",
   "execution_count": null,
   "id": "5d5e4621",
   "metadata": {},
   "outputs": [],
   "source": [
    "data_new=pd.get_dummies(data_org, columns =['job','marital','default','housing','loan','poutcome'])\n",
    "data_new.columns.values\n"
   ]
  },
  {
   "cell_type": "code",
   "execution_count": null,
   "id": "7ea7b2dd",
   "metadata": {},
   "outputs": [],
   "source": [
    "data_new.head(1)"
   ]
  },
  {
   "cell_type": "code",
   "execution_count": null,
   "id": "4e9e2256",
   "metadata": {},
   "outputs": [],
   "source": [
    "X = data_new.loc[:, data_new.columns != 'y']\n",
    "y = data_new.loc[:, data_new.columns == 'y']\n"
   ]
  },
  {
   "cell_type": "code",
   "execution_count": null,
   "id": "4f9f1e7a",
   "metadata": {},
   "outputs": [],
   "source": [
    "X = data2.loc[:, data2.columns != 'y']\n",
    "y = data2.loc[:, data2.columns == 'y']\n"
   ]
  },
  {
   "cell_type": "code",
   "execution_count": null,
   "id": "7d8b4ce9",
   "metadata": {},
   "outputs": [],
   "source": [
    "!pip3 install imblearn"
   ]
  },
  {
   "cell_type": "code",
   "execution_count": null,
   "id": "5afee567",
   "metadata": {},
   "outputs": [],
   "source": [
    "from imblearn.over_sampling import SMOTE\n",
    "os = SMOTE(random_state=0)\n",
    "X_train, X_test, y_train, y_test = train_test_split(X, y, test_size=0.3, random_state=0)\n",
    "columns = X_train.columns\n",
    "#On Train Data\n",
    "os_data_X,os_data_y=os.fit_sample(X_train, y_train)\n",
    "os_data_X = pd.DataFrame(data=os_data_X,columns=columns )\n",
    "os_data_y= pd.DataFrame(data=os_data_y,columns=['y'])\n"
   ]
  },
  {
   "cell_type": "code",
   "execution_count": null,
   "id": "79c1ed61",
   "metadata": {},
   "outputs": [],
   "source": [
    "#On Test Data\n",
    "os_data_test_X,os_data_test_y=os.fit_sample(X_test, y_test)\n",
    "os_data_test_X = pd.DataFrame(data=os_data_test_X,columns=columns )\n",
    "os_data_test_y= pd.DataFrame(data=os_data_test_y,columns=['y'])\n"
   ]
  },
  {
   "cell_type": "code",
   "execution_count": null,
   "id": "ff197ee7",
   "metadata": {},
   "outputs": [],
   "source": [
    "# we can Check the numbers of our data\n",
    "print(\"length of oversampled data is \",len(os_data_X))\n",
    "print(\"Number of no subscription in oversampled data\",len(os_data_y[os_data_y['y']==0]))\n",
    "print(\"Number of subscription\",len(os_data_y[os_data_y['y']==1]))\n",
    "print(\"Proportion of no subscription data in oversampled data is \",len(os_data_y[os_data_y['y']==0])/len(os_data_X))\n",
    "print(\"Proportion of subscription data in oversampled data is \",len(os_data_y[os_data_y['y']==1])/len(os_data_X))\n"
   ]
  },
  {
   "cell_type": "code",
   "execution_count": null,
   "id": "e8774050",
   "metadata": {},
   "outputs": [],
   "source": [
    "# we can Check the numbers of our data\n",
    "print(\"length of oversampled data is \",len(X))\n",
    "print(\"Number of no subscription in original data\",len(y[y['y']==0]))\n",
    "print(\"Number of subscription\",len(y[y['y']==1]))\n",
    "print(\"Proportion of no subscription data in original data is \",len(y[y['y']==0])/len(X))\n",
    "print(\"Proportion of subscription data in original data is \",len(y[y['y']==1])/len(X))\n"
   ]
  },
  {
   "cell_type": "code",
   "execution_count": null,
   "id": "89a426c9",
   "metadata": {},
   "outputs": [],
   "source": [
    "#Now we have a balanced Data"
   ]
  },
  {
   "cell_type": "code",
   "execution_count": null,
   "id": "cd683e27",
   "metadata": {},
   "outputs": [],
   "source": [
    "# Recursive Feature Elimination for selecting Important Variables\n",
    "\n",
    "data_final_vars=data2.columns.values.tolist()\n",
    "y=['y']\n",
    "X=[i for i in data_final_vars if i not in y]\n",
    "from sklearn.feature_selection import RFE\n",
    "from sklearn.linear_model import LogisticRegression\n",
    "logreg = LogisticRegression()\n",
    "rfe = RFE(logreg, 20)\n",
    "rfe = rfe.fit(os_data_X, os_data_y.values.ravel())\n",
    "print(rfe.support_)\n",
    "len(rfe.ranking_)\n",
    "print(rfe.ranking_)\n"
   ]
  },
  {
   "cell_type": "code",
   "execution_count": null,
   "id": "2a18118f",
   "metadata": {},
   "outputs": [],
   "source": [
    "# Fitting the Logit Model\n",
    "X=os_data_X.drop(['job_unknown','marital_unknown','default_unknown','loan_unknown'],axis =1)\n",
    "X=os_data_X\n",
    "y=os_data_y['y']\n"
   ]
  },
  {
   "cell_type": "code",
   "execution_count": null,
   "id": "43ff701f",
   "metadata": {},
   "outputs": [],
   "source": []
  },
  {
   "cell_type": "code",
   "execution_count": null,
   "id": "0f1cabdf",
   "metadata": {},
   "outputs": [],
   "source": [
    "# Evaluating the Logistic Model With SMOTE\n",
    "# =============================================================================\n",
    "classifier_SM = LogisticRegression(random_state=0)\n",
    "classifier_SM.fit(X, y)\n",
    "\n",
    "y_pred_SM = classifier_SM.predict(os_data_test_X)\n",
    "y_pred_train_SM = classifier_SM.predict(X)\n",
    "\n",
    "\n",
    "\n",
    "from sklearn.metrics import confusion_matrix\n",
    "confusion_matrix_SM = confusion_matrix(os_data_test_y, y_pred_SM)\n",
    "\n",
    "print(confusion_matrix_SM)\n",
    "print('Accuracy of logistic regression classifier on test set: {:.2f}'.format(classifier.score(X_test, y_test)))\n",
    "\n",
    "\n",
    "from sklearn.metrics import classification_report\n",
    "print(classification_report(os_data_test_y, y_pred_SM))\n"
   ]
  },
  {
   "cell_type": "markdown",
   "id": "fd6c93e9",
   "metadata": {},
   "source": [
    "# Fitting the Logistic Model with sklearn"
   ]
  },
  {
   "cell_type": "code",
   "execution_count": 15,
   "id": "14868fa2",
   "metadata": {},
   "outputs": [
    {
     "data": {
      "text/html": [
       "<div>\n",
       "<style scoped>\n",
       "    .dataframe tbody tr th:only-of-type {\n",
       "        vertical-align: middle;\n",
       "    }\n",
       "\n",
       "    .dataframe tbody tr th {\n",
       "        vertical-align: top;\n",
       "    }\n",
       "\n",
       "    .dataframe thead th {\n",
       "        text-align: right;\n",
       "    }\n",
       "</style>\n",
       "<table border=\"1\" class=\"dataframe\">\n",
       "  <thead>\n",
       "    <tr style=\"text-align: right;\">\n",
       "      <th></th>\n",
       "      <th>0</th>\n",
       "    </tr>\n",
       "  </thead>\n",
       "  <tbody>\n",
       "    <tr>\n",
       "      <th>0</th>\n",
       "      <td>0</td>\n",
       "    </tr>\n",
       "    <tr>\n",
       "      <th>1</th>\n",
       "      <td>0</td>\n",
       "    </tr>\n",
       "    <tr>\n",
       "      <th>2</th>\n",
       "      <td>0</td>\n",
       "    </tr>\n",
       "    <tr>\n",
       "      <th>3</th>\n",
       "      <td>0</td>\n",
       "    </tr>\n",
       "    <tr>\n",
       "      <th>4</th>\n",
       "      <td>0</td>\n",
       "    </tr>\n",
       "  </tbody>\n",
       "</table>\n",
       "</div>"
      ],
      "text/plain": [
       "   0\n",
       "0  0\n",
       "1  0\n",
       "2  0\n",
       "3  0\n",
       "4  0"
      ]
     },
     "execution_count": 15,
     "metadata": {},
     "output_type": "execute_result"
    }
   ],
   "source": [
    "#Without SMOTE\n",
    "classifier = LogisticRegression(random_state=0) #Logistic Regression classifier\n",
    "classifier.fit(X_train, y_train)\n",
    "\n",
    "y_pred = classifier.predict(X_test)\n",
    "y_pred_train = classifier.predict(X_train)\n",
    "pd.DataFrame(y_pred_train).head()"
   ]
  },
  {
   "cell_type": "code",
   "execution_count": 16,
   "id": "6a0c33b3",
   "metadata": {},
   "outputs": [
    {
     "name": "stdout",
     "output_type": "stream",
     "text": [
      "[[9046  110]\n",
      " [ 912  229]]\n",
      "Accuracy of logistic regression classifier on test set: 0.90\n",
      "              precision    recall  f1-score   support\n",
      "\n",
      "           0       0.91      0.99      0.95      9156\n",
      "           1       0.68      0.20      0.31      1141\n",
      "\n",
      "    accuracy                           0.90     10297\n",
      "   macro avg       0.79      0.59      0.63     10297\n",
      "weighted avg       0.88      0.90      0.88     10297\n",
      "\n"
     ]
    }
   ],
   "source": [
    "\n",
    "# =============================================================================\n",
    "# Evaluating the Logistic Model Without SMOTE\n",
    "# =============================================================================\n",
    "from sklearn.metrics import confusion_matrix\n",
    "confusion_matrix = confusion_matrix(y_test, y_pred)\n",
    "\n",
    "print(confusion_matrix)\n",
    "print('Accuracy of logistic regression classifier on test set: {:.2f}'.format(classifier.score(X_test, y_test)))\n",
    "\n",
    "\n",
    "from sklearn.metrics import classification_report\n",
    "print(classification_report(y_test, y_pred))\n"
   ]
  },
  {
   "cell_type": "markdown",
   "id": "06740c3f",
   "metadata": {},
   "source": [
    "#Precision () is defined as the number of true positives () over the number of true positives plus the number of false positives ().\n",
    "#Recall () is defined as the number of true positives () over the number of true positives plus the number of false negatives ()."
   ]
  },
  {
   "cell_type": "markdown",
   "id": "2d0b0ecf",
   "metadata": {},
   "source": [
    "#Interpretation:Interpretation: Of the entire test set, 88% of the promoted term deposit were the term deposit that the customers liked. Of the entire test set, 90% of the customer’s preferred term deposits that were promoted."
   ]
  },
  {
   "cell_type": "markdown",
   "id": "46e307b2",
   "metadata": {},
   "source": [
    "# Fitting the Logistic Model with statsmodel"
   ]
  },
  {
   "cell_type": "code",
   "execution_count": 13,
   "id": "8c292bc5",
   "metadata": {},
   "outputs": [
    {
     "name": "stdout",
     "output_type": "stream",
     "text": [
      "Warning: Maximum number of iterations has been exceeded.\n",
      "         Current function value: 0.315020\n",
      "         Iterations: 35\n",
      "         Function evaluations: 36\n",
      "         Gradient evaluations: 36\n",
      "                                  Results: Logit\n",
      "==================================================================================\n",
      "Model:                     Logit                 Pseudo R-squared:      0.108     \n",
      "Dependent Variable:        y                     AIC:                   19506.5790\n",
      "Date:                      2022-08-09 02:28      BIC:                   19690.0198\n",
      "No. Observations:          30891                 Log-Likelihood:        -9731.3   \n",
      "Df Model:                  21                    LL-Null:               -10914.   \n",
      "Df Residuals:              30869                 LLR p-value:           0.0000    \n",
      "Converged:                 0.0000                Scale:                 1.0000    \n",
      "----------------------------------------------------------------------------------\n",
      "                      Coef.    Std.Err.     z    P>|z|      [0.025       0.975]   \n",
      "----------------------------------------------------------------------------------\n",
      "job_admin.           -0.1822      0.2084 -0.8742 0.3820       -0.5906       0.2263\n",
      "job_blue-collar      -0.5530      0.2102 -2.6313 0.0085       -0.9649      -0.1411\n",
      "job_entrepreneur     -0.3389      0.2315 -1.4640 0.1432       -0.7925       0.1148\n",
      "job_housemaid        -0.2530      0.2396 -1.0559 0.2910       -0.7226       0.2166\n",
      "job_management       -0.2546      0.2170 -1.1735 0.2406       -0.6798       0.1706\n",
      "job_retired           0.7403      0.2167  3.4170 0.0006        0.3157       1.1649\n",
      "job_self-employed    -0.2308      0.2289 -1.0085 0.3132       -0.6795       0.2178\n",
      "job_services         -0.5323      0.2163 -2.4611 0.0139       -0.9562      -0.1084\n",
      "job_student           0.5971      0.2276  2.6239 0.0087        0.1511       1.0431\n",
      "job_technician       -0.4146      0.2110 -1.9646 0.0495       -0.8282      -0.0010\n",
      "job_unemployed        0.0015      0.2323  0.0064 0.9949       -0.4539       0.4568\n",
      "marital_divorced     -0.5618      0.3499 -1.6058 0.1083       -1.2476       0.1239\n",
      "marital_married      -0.5634      0.3458 -1.6291 0.1033       -1.2412       0.1144\n",
      "marital_single       -0.2970      0.3468 -0.8563 0.3918       -0.9766       0.3827\n",
      "default_no            0.6535      0.0602 10.8514 0.0000        0.5354       0.7715\n",
      "default_yes          -0.0018      3.3810 -0.0005 0.9996       -6.6284       6.6248\n",
      "housing_no           -0.2940 662220.5898 -0.0000 1.0000 -1297928.7997 1297928.2118\n",
      "housing_yes          -0.2935 662220.5898 -0.0000 1.0000 -1297928.7993 1297928.2122\n",
      "loan_no              -0.2702 662220.5898 -0.0000 1.0000 -1297928.7759 1297928.2356\n",
      "loan_yes             -0.3173 662220.5898 -0.0000 1.0000 -1297928.8231 1297928.1884\n",
      "poutcome_failure     -1.1027      0.4069 -2.7100 0.0067       -1.9002      -0.3052\n",
      "poutcome_nonexistent -1.5659      0.4044 -3.8724 0.0001       -2.3585      -0.7734\n",
      "poutcome_success      1.2309      0.4098  3.0037 0.0027        0.4277       2.0342\n",
      "==================================================================================\n",
      "\n"
     ]
    }
   ],
   "source": [
    "import statsmodels.api as sm\n",
    "logit_model=sm.Logit(y_train,X_train)\n",
    "result=logit_model.fit(method='bfgs') #broyden, fletcher goldfarb Shanno (S) , bfgs - Optimization methods help to eliminate the problem of singular matrix\n",
    "print(result.summary2())\n"
   ]
  },
  {
   "cell_type": "code",
   "execution_count": 12,
   "id": "3cc71dad",
   "metadata": {},
   "outputs": [],
   "source": [
    "import warnings\n",
    "from statsmodels.tools.sm_exceptions import ConvergenceWarning\n",
    "warnings.simplefilter('ignore', ConvergenceWarning)"
   ]
  },
  {
   "cell_type": "markdown",
   "id": "5d218951",
   "metadata": {},
   "source": [
    "# If the customer is retired then the log odds of opting for term deposit increases by 0.7403"
   ]
  }
 ],
 "metadata": {
  "kernelspec": {
   "display_name": "Python 3 (ipykernel)",
   "language": "python",
   "name": "python3"
  },
  "language_info": {
   "codemirror_mode": {
    "name": "ipython",
    "version": 3
   },
   "file_extension": ".py",
   "mimetype": "text/x-python",
   "name": "python",
   "nbconvert_exporter": "python",
   "pygments_lexer": "ipython3",
   "version": "3.9.12"
  }
 },
 "nbformat": 4,
 "nbformat_minor": 5
}
